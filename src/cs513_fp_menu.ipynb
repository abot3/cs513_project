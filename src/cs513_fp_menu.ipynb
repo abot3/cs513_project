{
 "cells": [
  {
   "cell_type": "markdown",
   "id": "99dcfba4-c60f-4e55-86fe-7c2f82cec535",
   "metadata": {},
   "source": [
    "# Imports"
   ]
  },
  {
   "cell_type": "code",
   "execution_count": null,
   "id": "b43850f4-08b4-4ac8-847f-4960a6b72a96",
   "metadata": {},
   "outputs": [],
   "source": [
    "import os\n",
    "import time\n",
    "from typing import List, Tuple, Dict, Optional\n",
    "\n",
    "import pandas as pd\n",
    "import numpy as np"
   ]
  },
  {
   "cell_type": "markdown",
   "id": "f03a8f8e-146c-4019-9ca0-22cd57e933ae",
   "metadata": {},
   "source": [
    "# Load Data"
   ]
  },
  {
   "cell_type": "code",
   "execution_count": null,
   "id": "1ceffa1a-600a-4c6f-8e1a-b0e1121cbb02",
   "metadata": {},
   "outputs": [],
   "source": [
    "_DISH_CSV_FILE = 'Dish.csv'\n",
    "_MENU_CSV_FILE = 'Menu.csv'\n",
    "_MENU_ITEM_CSV_FILE = 'MenuItem.csv'\n",
    "_MENU_PAGE_CSV_FILE = 'MenuPage.csv'\n",
    "path = os.path.join(os.path.dirname(os.getcwd()), 'data', 'NYPL-menus', _DISH_CSV_FILE)\n",
    "dish_df = pd.read_csv(path)\n",
    "path = os.path.join(os.path.dirname(os.getcwd()), 'data', 'NYPL-menus', _MENU_CSV_FILE)\n",
    "menu_df = pd.read_csv(path)\n",
    "path = os.path.join(os.path.dirname(os.getcwd()), 'data', 'NYPL-menus', _MENU_ITEM_CSV_FILE)\n",
    "mi_df = pd.read_csv(path)\n",
    "path = os.path.join(os.path.dirname(os.getcwd()), 'data', 'NYPL-menus', _MENU_PAGE_CSV_FILE)\n",
    "mp_df = pd.read_csv(path)"
   ]
  },
  {
   "cell_type": "code",
   "execution_count": null,
   "id": "a91bc068-c6b3-4fe4-af9a-f2e9e84ddb10",
   "metadata": {},
   "outputs": [],
   "source": [
    "dish_df"
   ]
  },
  {
   "cell_type": "code",
   "execution_count": null,
   "id": "cb98ab60-47ab-4674-a09d-fb6299e81cd1",
   "metadata": {},
   "outputs": [],
   "source": [
    "menu_df"
   ]
  },
  {
   "cell_type": "code",
   "execution_count": null,
   "id": "d77538a9-e10d-4670-862f-ad98dedc074c",
   "metadata": {},
   "outputs": [],
   "source": [
    "mi_df"
   ]
  },
  {
   "cell_type": "code",
   "execution_count": null,
   "id": "5ea439ac-0e50-458c-8b66-aa4544abb777",
   "metadata": {},
   "outputs": [],
   "source": [
    "#mp_df['page_number'] = mp_df['page_number'].astype('int')\n",
    "print(f\"null pages: {mp_df['page_number'].isnull().sum()}\")\n",
    "mp_df"
   ]
  },
  {
   "cell_type": "markdown",
   "id": "220ade0b-72e1-461d-be89-023970bda6b6",
   "metadata": {},
   "source": [
    "# Joining"
   ]
  },
  {
   "cell_type": "code",
   "execution_count": null,
   "id": "bc500667-3e29-4e9f-96d1-ee5f58582b71",
   "metadata": {},
   "outputs": [],
   "source": [
    "#all_items = pd.concat([mp_df.set_index('id'), mi_df.set_index('menu_page_id')], axis=1, join='inner')\n",
    "all_pages = mp_df.merge(mi_df, left_on='id', right_on='menu_page_id', how='inner').reset_index(drop=True)\n",
    "all_pages = all_pages.drop(labels=['id_x', 'id_y'], axis='columns')\n",
    "all_pages"
   ]
  },
  {
   "cell_type": "code",
   "execution_count": null,
   "id": "222f094c-206b-49ed-8b28-8d9527c3c69c",
   "metadata": {},
   "outputs": [],
   "source": [
    "all_menus = all_pages.merge(menu_df, left_on='menu_id', right_on='id', how='inner').reset_index(drop=True)\n",
    "all_menus = all_menus.drop(labels=['id'], axis='columns')\n",
    "all_menus"
   ]
  },
  {
   "cell_type": "code",
   "execution_count": null,
   "id": "3ae3a9a0-7a91-4ef3-a6df-14f6e33f35e8",
   "metadata": {},
   "outputs": [],
   "source": [
    "all_items = all_menus.merge(dish_df, left_on='dish_id', right_on='id', how='inner')\n",
    "all_items = all_items.drop(labels=['id'], axis='columns')\n",
    "print(all_items.columns)\n",
    "all_items"
   ]
  },
  {
   "cell_type": "markdown",
   "id": "4d13bc5f-855f-4304-96cc-ef91214968ef",
   "metadata": {},
   "source": [
    "# Filtering"
   ]
  },
  {
   "cell_type": "code",
   "execution_count": null,
   "id": "5cdc2eee-e0c7-478c-8031-e19d30e39b35",
   "metadata": {},
   "outputs": [],
   "source": [
    "# The following sections enable individual filtering steps.\n",
    "FILTER_RM_TITLES_WITHOUT_YEARS = True\n",
    "MUTATION_ADD_YEAR_COL = True\n",
    "\n",
    "# All filters/mutations will be applied to the fdf (filtered data frame). The original will be preserved.\n",
    "fdf = df.copy()"
   ]
  },
  {
   "cell_type": "code",
   "execution_count": null,
   "id": "525a55ea-de70-420b-b6e2-50d061c615a3",
   "metadata": {},
   "outputs": [],
   "source": [
    "titles = fdf['title']\n",
    "titles[:100]"
   ]
  },
  {
   "cell_type": "code",
   "execution_count": null,
   "id": "5f4309dc-206f-4edf-b746-aeb52a7aa579",
   "metadata": {},
   "outputs": [],
   "source": [
    "# Find titles with the year in them\n",
    "total_titles = fdf['title'].size\n",
    "null_titles = fdf.title.isnull().sum()\n",
    "title_with_year = fdf['title'].str.contains('[012]\\d{2,3}')\n",
    "num_titles_with_year = title_with_year.sum()\n",
    "pct_with_year = num_titles_with_year / (total_titles - null_titles)\n",
    "print(f'total: {total_titles}, nulls: {null_titles},  '\n",
    "      f'num_with_year: {num_titles_with_year}, % w/yr: {pct_with_year:0.4}%')"
   ]
  },
  {
   "cell_type": "code",
   "execution_count": null,
   "id": "5169b940-34fb-453e-b0c7-b9fc06d23b66",
   "metadata": {},
   "outputs": [],
   "source": [
    "if FILTER_RM_TITLES_WITHOUT_YEARS:\n",
    "    fdf = fdf[fdf['title'].notna()]\n",
    "    title_with_year = fdf['title'].str.contains('[012]\\d{2,3}')\n",
    "    fdf = fdf[title_with_year]\n",
    "    \n",
    "if MUTATION_ADD_YEAR_COL:\n",
    "    if FILTER_RM_TITLES_WITHOUT_YEARS:\n",
    "        fdf['year'] = fdf.title.str.extract(pat='([012]\\d{2,3})', expand=False)\n",
    "        #fdf['year'] = pd.to_datetime(fdf['year'], format='%y', errors='raise')\n",
    "        fdf['year'] = fdf['year'].astype('int32')"
   ]
  },
  {
   "cell_type": "code",
   "execution_count": null,
   "id": "4f945cad-572e-40d0-adc4-e72d9a20f4f1",
   "metadata": {},
   "outputs": [],
   "source": [
    "fdf"
   ]
  },
  {
   "cell_type": "code",
   "execution_count": null,
   "id": "e8eb20fa-ae1f-4f3e-981a-b7008e6e9a77",
   "metadata": {},
   "outputs": [],
   "source": []
  }
 ],
 "metadata": {
  "kernelspec": {
   "display_name": "Python 3 (ipykernel)",
   "language": "python",
   "name": "python3"
  },
  "language_info": {
   "codemirror_mode": {
    "name": "ipython",
    "version": 3
   },
   "file_extension": ".py",
   "mimetype": "text/x-python",
   "name": "python",
   "nbconvert_exporter": "python",
   "pygments_lexer": "ipython3",
   "version": "3.10.9"
  }
 },
 "nbformat": 4,
 "nbformat_minor": 5
}
