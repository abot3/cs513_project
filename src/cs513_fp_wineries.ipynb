{
 "cells": [
  {
   "cell_type": "markdown",
   "id": "99dcfba4-c60f-4e55-86fe-7c2f82cec535",
   "metadata": {},
   "source": [
    "# Imports"
   ]
  },
  {
   "cell_type": "code",
   "execution_count": null,
   "id": "b43850f4-08b4-4ac8-847f-4960a6b72a96",
   "metadata": {},
   "outputs": [],
   "source": [
    "import os\n",
    "import time\n",
    "from typing import List, Tuple, Dict, Optional\n",
    "\n",
    "import pandas as pd\n",
    "import numpy as np"
   ]
  },
  {
   "cell_type": "markdown",
   "id": "f03a8f8e-146c-4019-9ca0-22cd57e933ae",
   "metadata": {},
   "source": [
    "# Load Data"
   ]
  },
  {
   "cell_type": "code",
   "execution_count": null,
   "id": "1ceffa1a-600a-4c6f-8e1a-b0e1121cbb02",
   "metadata": {},
   "outputs": [],
   "source": [
    "_CSV_FILE = 'winemag-data-130k-v2.csv'\n",
    "path = os.path.join(os.path.dirname(os.getcwd()), 'data', _CSV_FILE)\n",
    "df = pd.read_csv(path)"
   ]
  },
  {
   "cell_type": "code",
   "execution_count": null,
   "id": "a91bc068-c6b3-4fe4-af9a-f2e9e84ddb10",
   "metadata": {},
   "outputs": [],
   "source": [
    "df"
   ]
  },
  {
   "cell_type": "markdown",
   "id": "4d13bc5f-855f-4304-96cc-ef91214968ef",
   "metadata": {},
   "source": [
    "# Filtering"
   ]
  },
  {
   "cell_type": "code",
   "execution_count": null,
   "id": "5cdc2eee-e0c7-478c-8031-e19d30e39b35",
   "metadata": {},
   "outputs": [],
   "source": [
    "# The following sections enable individual filtering steps.\n",
    "FILTER_RM_TITLES_WITHOUT_YEARS = True\n",
    "MUTATION_ADD_YEAR_COL = True\n",
    "\n",
    "# All filters/mutations will be applied to the fdf (filtered data frame). The original will be preserved.\n",
    "fdf = df.copy()"
   ]
  },
  {
   "cell_type": "code",
   "execution_count": null,
   "id": "525a55ea-de70-420b-b6e2-50d061c615a3",
   "metadata": {},
   "outputs": [],
   "source": [
    "titles = fdf['title']\n",
    "titles[:100]"
   ]
  },
  {
   "cell_type": "code",
   "execution_count": null,
   "id": "5f4309dc-206f-4edf-b746-aeb52a7aa579",
   "metadata": {},
   "outputs": [],
   "source": [
    "# Find titles with the year in them\n",
    "total_titles = fdf['title'].size\n",
    "null_titles = fdf.title.isnull().sum()\n",
    "title_with_year = fdf['title'].str.contains('[012]\\d{2,3}')\n",
    "num_titles_with_year = title_with_year.sum()\n",
    "pct_with_year = num_titles_with_year / (total_titles - null_titles)\n",
    "print(f'total: {total_titles}, nulls: {null_titles},  '\n",
    "      f'num_with_year: {num_titles_with_year}, % w/yr: {pct_with_year:0.4}%')"
   ]
  },
  {
   "cell_type": "code",
   "execution_count": null,
   "id": "5169b940-34fb-453e-b0c7-b9fc06d23b66",
   "metadata": {},
   "outputs": [],
   "source": [
    "if FILTER_RM_TITLES_WITHOUT_YEARS:\n",
    "    fdf = fdf[fdf['title'].notna()]\n",
    "    title_with_year = fdf['title'].str.contains('[012]\\d{2,3}')\n",
    "    fdf = fdf[title_with_year]\n",
    "    \n",
    "if MUTATION_ADD_YEAR_COL:\n",
    "    if FILTER_RM_TITLES_WITHOUT_YEARS:\n",
    "        fdf['year'] = fdf.title.str.extract(pat='([012]\\d{2,3})', expand=False)\n",
    "        #fdf['year'] = pd.to_datetime(fdf['year'], format='%y', errors='raise')\n",
    "        fdf['year'] = fdf['year'].astype('int32')\n",
    "        "
   ]
  },
  {
   "cell_type": "code",
   "execution_count": null,
   "id": "4f945cad-572e-40d0-adc4-e72d9a20f4f1",
   "metadata": {},
   "outputs": [],
   "source": [
    "fdf"
   ]
  }
 ],
 "metadata": {
  "kernelspec": {
   "display_name": "Python 3 (ipykernel)",
   "language": "python",
   "name": "python3"
  },
  "language_info": {
   "codemirror_mode": {
    "name": "ipython",
    "version": 3
   },
   "file_extension": ".py",
   "mimetype": "text/x-python",
   "name": "python",
   "nbconvert_exporter": "python",
   "pygments_lexer": "ipython3",
   "version": "3.10.9"
  }
 },
 "nbformat": 4,
 "nbformat_minor": 5
}
